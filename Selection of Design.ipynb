{
 "cells": [
  {
   "cell_type": "markdown",
   "metadata": {},
   "source": [
    "# Introduction"
   ]
  },
  {
   "cell_type": "markdown",
   "metadata": {},
   "source": [
    "Hot-rolled steel strip, is products of iron and steel industry, is mostly used in automotive, electrical, chemical,\n",
    "shipbuilding and other industries, and has a great development space in the next few years. In hot-rolled steel\n",
    "strip apparent quality is an important factor affecting its performance. Because of influence of equipment, raw\n",
    "materials and manufacturing technology, different types of irregularities on the surface of hot-rolled steel strip\n",
    "are formed in the production process, such as patches, crazing and inclusion. These defects do not affect the\n",
    "apparent quality of steel products, and are easy to cause rust, stress concentration, cracking and other quality\n",
    "problems, which greatly reduces the performance and service life of steel products. At present, manual\n",
    "inspection is the main method to detect the surface defects on hot-rolled steel strip in industry. This process is\n",
    "not only lengthy and laborious, but also high error rate. With the continuous development of image processing\n",
    "technology, machine learning method has gradually replaced the traditional method of manual detection, and\n",
    "has been applied in large-scale production practice."
   ]
  },
  {
   "cell_type": "markdown",
   "metadata": {},
   "source": [
    "# Technology Used in project"
   ]
  },
  {
   "cell_type": "markdown",
   "metadata": {},
   "source": [
    "1 Programmimg Language -Python\n",
    "\n",
    "2 Python Library-Os,Numpy,Pandas,Matplotlib,keras,tensorflow\n",
    "\n",
    "2 Machine Learning-Supervised-Machine learning\n",
    "\n",
    "3 Data Type-categorical\n",
    "\n",
    "3 Deep learnig-CNN Neural network\n",
    "\n",
    "4 IDE-Anaconda Navigator-Jupyter Notebook\n",
    "\n",
    "5 Data Set-http://faculty.neu.edu.cn/yunhyan/NEU_surface_defect_database.html#:~:text=In%20the%20Northeastern%20University%20(NEU,)%20and%20scratches%20(Sc).\n",
    "\n"
   ]
  },
  {
   "cell_type": "markdown",
   "metadata": {},
   "source": [
    "# About Dataset"
   ]
  },
  {
   "cell_type": "markdown",
   "metadata": {},
   "source": [
    "This dataset was downloaded from NEU Metal Surface Defects Databse which contains six kinds of typical surface defects of the hot-rolled steel strip are collected, i.e., rolled-in scale (RS), patches (Pa), crazing (Cr), pitted surface (PS), inclusion (In) and scratches (Sc). The database includes 1,800 grayscale images: 300 samples each of six different kinds of typical surface defects.\n",
    "\n",
    "But for this analysis, the dataset divided into 3 directories. The training directory contains 276 images of each class from the 300 images. The rest 24 images of each class also divided into tests and valid datasets."
   ]
  },
  {
   "cell_type": "markdown",
   "metadata": {},
   "source": [
    "# Parameter's "
   ]
  },
  {
   "cell_type": "markdown",
   "metadata": {},
   "source": [
    "#Data Transformation using ImageDataGenerator \n",
    "\n",
    "rescale=1. / 255,\n",
    "shear_range=0.2,\n",
    "zoom_range=0.2,\n",
    "horizontal_flip=True\n",
    "\n",
    "To stop training a neural-network using callback-98%\n",
    "\n",
    "Activation Function=relu\n",
    "\n",
    "optimizer-'rmsprop'\n",
    "\n",
    "batch_size = 32\n",
    "\n",
    "epochs=20\n",
    "\n",
    "Activation Function-\n",
    "                    Rectified Linear Unit (ReLU) Function\n",
    "                    Softmax Function\n",
    "\n"
   ]
  },
  {
   "cell_type": "markdown",
   "metadata": {},
   "source": [
    "# Terms"
   ]
  },
  {
   "cell_type": "markdown",
   "metadata": {},
   "source": [
    "1 maxpooling-\n",
    "            Max pooling selects the brighter pixels from the image. It is useful when the background of the image is dark and we are interested in only the lighter pixels of the image\n",
    "            \n"
   ]
  },
  {
   "cell_type": "markdown",
   "metadata": {},
   "source": [
    "# my experimental Trained Model Accuracy "
   ]
  },
  {
   "cell_type": "markdown",
   "metadata": {},
   "source": [
    "# Test Predicted Visulization "
   ]
  },
  {
   "cell_type": "markdown",
   "metadata": {},
   "source": [
    "# Accuracy vs Loss Visulization "
   ]
  },
  {
   "cell_type": "code",
   "execution_count": 1,
   "metadata": {},
   "outputs": [],
   "source": []
  },
  {
   "cell_type": "code",
   "execution_count": null,
   "metadata": {},
   "outputs": [],
   "source": []
  }
 ],
 "metadata": {
  "kernelspec": {
   "display_name": "Python 3",
   "language": "python",
   "name": "python3"
  },
  "language_info": {
   "codemirror_mode": {
    "name": "ipython",
    "version": 3
   },
   "file_extension": ".py",
   "mimetype": "text/x-python",
   "name": "python",
   "nbconvert_exporter": "python",
   "pygments_lexer": "ipython3",
   "version": "3.7.1"
  }
 },
 "nbformat": 4,
 "nbformat_minor": 4
}
