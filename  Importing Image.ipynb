{
 "cells": [
  {
   "cell_type": "markdown",
   "metadata": {},
   "source": [
    "# Image Importing"
   ]
  },
  {
   "cell_type": "code",
   "execution_count": null,
   "metadata": {},
   "outputs": [],
   "source": [
    "import os\n",
    "import PIL\n",
    "import PIL.Image\n",
    "import numpy as np\n",
    "import tensorflow as tf\n",
    "from tensorflow.keras.preprocessing.image import ImageDataGenerator\n",
    "#import tensorflow_datasets as tf"
   ]
  },
  {
   "cell_type": "code",
   "execution_count": null,
   "metadata": {},
   "outputs": [],
   "source": [
    "print(tf.__version__)"
   ]
  },
  {
   "cell_type": "code",
   "execution_count": null,
   "metadata": {},
   "outputs": [],
   "source": [
    "%matplotlib inline\n",
    "import matplotlib.pyplot as plt\n",
    "import matplotlib.image as mpimg"
   ]
  },
  {
   "cell_type": "code",
   "execution_count": null,
   "metadata": {},
   "outputs": [],
   "source": [
    "img1 = mpimg.imread(r'D:\\projects\\Final Year Project\\NEU Metal Surface Defects Data\\test\\Crazing\\Cr_1.bmp')\n",
    "img2 = mpimg.imread(r'D:\\projects\\Final Year Project\\NEU Metal Surface Defects Data\\test\\Crazing\\Cr_10.bmp')\n",
    "img3 = mpimg.imread(r'D:\\projects\\Final Year Project\\NEU Metal Surface Defects Data\\test\\Crazing\\Cr_100.bmp')\n",
    "img4 = mpimg.imread(r'D:\\projects\\Final Year Project\\NEU Metal Surface Defects Data\\test\\Crazing\\Cr_101.bmp')\n",
    "\n",
    "print(img1)\n",
    "print(img2)\n",
    "print(img3)\n",
    "print(img4)"
   ]
  },
  {
   "cell_type": "code",
   "execution_count": null,
   "metadata": {},
   "outputs": [],
   "source": [
    "imgplot1 = plt.imshow(img1)\n",
    "imgplot2 = plt.imshow(img2)\n",
    "imgplot3 = plt.imshow(img3)\n",
    "imgplot4 = plt.imshow(img4)"
   ]
  },
  {
   "cell_type": "code",
   "execution_count": null,
   "metadata": {},
   "outputs": [],
   "source": [
    "imgplot2 = plt.imshow(img2)\n"
   ]
  },
  {
   "cell_type": "code",
   "execution_count": null,
   "metadata": {},
   "outputs": [],
   "source": []
  }
 ],
 "metadata": {
  "kernelspec": {
   "display_name": "Python 3",
   "language": "python",
   "name": "python3"
  },
  "language_info": {
   "codemirror_mode": {
    "name": "ipython",
    "version": 3
   },
   "file_extension": ".py",
   "mimetype": "text/x-python",
   "name": "python",
   "nbconvert_exporter": "python",
   "pygments_lexer": "ipython3",
   "version": "3.7.1"
  }
 },
 "nbformat": 4,
 "nbformat_minor": 4
}
